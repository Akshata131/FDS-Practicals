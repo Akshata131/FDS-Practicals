{
 "cells": [
  {
   "cell_type": "markdown",
   "id": "9dc48410",
   "metadata": {},
   "source": [
    "Probability of cancer detection by using baye's law\n",
    "\n",
    "1] In our scenario we were given 3 pieces of information, the base rate, the sensitivity(or the positive rate), and the            specificity(or true negative rate)\n",
    "   Sensitivity: 85% of people with cancer will get a positive test result. \n",
    "   Bases Rate: 0.02% people have cancer.\n",
    "   Specificity: 95% of people without cancer will get a negative test result.\n",
    "   We did not have P(Test=Positive), but we calculate it given what we already had available.\n",
    "   We might imagine that Baye's Theorm allows us to be even more precisie about a given scenario.for ex, if we had more            information about the patient(eg. their age) and about tthe domain (eg. cancer rates for age ranges), and in turn we could      offer an even more accurate probability estimate.\n",
    "      Calculate the probability of patients having cancer given test is positive.\n",
    "    "
   ]
  },
  {
   "cell_type": "code",
   "execution_count": 1,
   "id": "8654df68",
   "metadata": {},
   "outputs": [
    {
     "name": "stdout",
     "output_type": "stream",
     "text": [
      "P(A/B) =0.339%\n"
     ]
    }
   ],
   "source": [
    "#calculate P(A/B) given p(A)=0.02%, p(B/A)=85%, P(B/notA)\n",
    "\n",
    "def bayes_law(p_a,p_b_given_a,p_b_given_not_a):\n",
    "    #calculate p(notA)\n",
    "    not_a=1 - p_a\n",
    "    \n",
    "    #Calculate P(B)\n",
    "    p_b= p_b_given_a * p_a + p_b_given_not_a * not_a\n",
    "    \n",
    "    #Calculate P(A/B)\n",
    "    p_a_given_b = (p_b_given_a * p_a) / p_b\n",
    "    \n",
    "    return p_a_given_b\n",
    "    \n",
    "p_a = 0.0002\n",
    "p_b_given_a = 0.85\n",
    "p_b_given_not_a =0.05\n",
    "\n",
    "result = bayes_law(p_a,p_b_given_a,p_b_given_not_a)\n",
    "print('P(A/B) =%.3f%%' % (result *100))\n"
   ]
  },
  {
   "cell_type": "markdown",
   "id": "09c6ac3a",
   "metadata": {},
   "source": [
    "Spam Filtering\n",
    "\n",
    "2] Consider spam problem as follows:\n",
    "    P(spam)= 30%      p(not spam)=70%      p(congratulation/spam)=75%       P(congratulation/ not spam)=35%\n",
    "   (It means if it is genuine email then there is 35% chance if mail contains word congratulation then it's not spam) \n",
    "   Solve the problem for the mail containing word \"congratulation\" given spam. What is the probability of email is spam if it        contains word congratulations?\n",
    "   P(spam/congratulation)=? It means if I see word congratulation in an email then what is the chance the mail is spam than          than we want to solve.\n",
    "\n"
   ]
  },
  {
   "cell_type": "code",
   "execution_count": 2,
   "id": "015d6f1e",
   "metadata": {},
   "outputs": [
    {
     "name": "stdout",
     "output_type": "stream",
     "text": [
      "P(A/B) =47.872%\n"
     ]
    }
   ],
   "source": [
    "#calculate P(A/B) given p(A)=30%, p(notA)=70%, p(B/A)=75%, P(B/notA)=35%\n",
    "def spam_filter(p_a,p_not_a,p_b_given_a,p_b_given_not_a):\n",
    "    \n",
    "     #Calculate P(B)\n",
    "    p_b= p_b_given_a * p_a + p_b_given_not_a * p_not_a\n",
    "    \n",
    "    #Calculate P(A/B)\n",
    "    p_a_given_b = (p_b_given_a * p_a) / p_b\n",
    "    \n",
    "    return p_a_given_b\n",
    "    \n",
    "p_a = 0.30\n",
    "p_not_a = 0.70\n",
    "p_b_given_a = 0.75\n",
    "p_b_given_not_a =0.35\n",
    "\n",
    "result = spam_filter(p_a,p_not_a,p_b_given_a,p_b_given_not_a)\n",
    "print('P(A/B) =%.3f%%' % (result *100))"
   ]
  },
  {
   "cell_type": "code",
   "execution_count": null,
   "id": "ecf633e1",
   "metadata": {},
   "outputs": [],
   "source": []
  },
  {
   "cell_type": "code",
   "execution_count": null,
   "id": "32eaccb3",
   "metadata": {},
   "outputs": [],
   "source": []
  }
 ],
 "metadata": {
  "kernelspec": {
   "display_name": "Python 3",
   "language": "python",
   "name": "python3"
  },
  "language_info": {
   "codemirror_mode": {
    "name": "ipython",
    "version": 3
   },
   "file_extension": ".py",
   "mimetype": "text/x-python",
   "name": "python",
   "nbconvert_exporter": "python",
   "pygments_lexer": "ipython3",
   "version": "3.8.8"
  }
 },
 "nbformat": 4,
 "nbformat_minor": 5
}
