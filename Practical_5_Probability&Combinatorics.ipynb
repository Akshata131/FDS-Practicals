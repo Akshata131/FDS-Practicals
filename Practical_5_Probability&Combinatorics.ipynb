{
 "cells": [
  {
   "cell_type": "markdown",
   "id": "7664d417",
   "metadata": {},
   "source": [
    "# PROBABILITY"
   ]
  },
  {
   "cell_type": "markdown",
   "id": "95bffacb",
   "metadata": {},
   "source": [
    "Eg 1- probability of getting 3 when a die is rolled"
   ]
  },
  {
   "cell_type": "code",
   "execution_count": 1,
   "id": "40d25893",
   "metadata": {},
   "outputs": [
    {
     "name": "stdout",
     "output_type": "stream",
     "text": [
      "probability of getting 3 is: 0.16666666666666666\n"
     ]
    }
   ],
   "source": [
    "# probability of getting 3 when a die is rolled\n",
    "ns = 6          #n(S) = {1,2,3,4,5,6}\n",
    "na = 1          #n(A) ={3}\n",
    "pa = na/ns      #P(A)\n",
    "print(\"probability of getting 3 is:\",pa)"
   ]
  },
  {
   "cell_type": "markdown",
   "id": "56c9ee7f",
   "metadata": {},
   "source": [
    "Eg 2- Probability of atleast getting one head when a coin is tossed thrice"
   ]
  },
  {
   "cell_type": "code",
   "execution_count": 2,
   "id": "b6c8ec1c",
   "metadata": {},
   "outputs": [
    {
     "name": "stdout",
     "output_type": "stream",
     "text": [
      "probability of getting atleast one head is: 0.875\n"
     ]
    }
   ],
   "source": [
    "ns = 8      #n(S) ={HHH,HHT,HTH,THH,TTH,THT,HTT,TTT}\n",
    "na = 7      #n(A) ={HHH,HHT,HTH,THH,TTH,THT,HTT}\n",
    "pa = na/ns      #P(A)\n",
    "print(\"probability of getting atleast one head is:\",pa)"
   ]
  },
  {
   "cell_type": "markdown",
   "id": "831f0566",
   "metadata": {},
   "source": [
    "Eg 3- A glass jar contains 5 red, 3 blue, and 2 green jelly beans.If a jelly bean is chosen at random from the jar,what is the probability that it is not true?"
   ]
  },
  {
   "cell_type": "code",
   "execution_count": 3,
   "id": "47f6f1f8",
   "metadata": {},
   "outputs": [
    {
     "name": "stdout",
     "output_type": "stream",
     "text": [
      "probability of getting not blue jellybean is: 0.7\n"
     ]
    }
   ],
   "source": [
    "\n",
    "ns = 10          #n(S) = {5 red, 3 blue, 2 green}\n",
    "na = 7          #n(A) ={5 red, 2 green}\n",
    "pa = na/ns      #P(A)\n",
    "print(\"probability of getting not blue jellybean is:\",pa)\n"
   ]
  },
  {
   "cell_type": "markdown",
   "id": "50a7a9e7",
   "metadata": {},
   "source": [
    "# Independent and Dependent Events"
   ]
  },
  {
   "cell_type": "code",
   "execution_count": 4,
   "id": "5d12000e",
   "metadata": {},
   "outputs": [
    {
     "name": "stdout",
     "output_type": "stream",
     "text": [
      "probability that they will be alive after 20 years is: 0.35\n"
     ]
    }
   ],
   "source": [
    "#If the probability that person A will be alive in 20 yearsis 0.7 and the probability that person B will be alive in\n",
    "#20 years is 0.5, what is the probability that they will\n",
    "#both be alive in 20 years?\n",
    "#These are independent events so,\n",
    "\n",
    "P = 0.7*0.5\n",
    "print(\"probability that they will be alive after 20 years is:\",P)"
   ]
  },
  {
   "cell_type": "code",
   "execution_count": 5,
   "id": "adbdbfad",
   "metadata": {},
   "outputs": [],
   "source": [
    "def event_probability (n,s):\n",
    "   return n/s"
   ]
  },
  {
   "cell_type": "code",
   "execution_count": 6,
   "id": "be432ff7",
   "metadata": {},
   "outputs": [
    {
     "name": "stdout",
     "output_type": "stream",
     "text": [
      "probability of getting a 4 or 5 the first toss and a 1,2,or 3 in the second toss is: 0.16666666666666666\n"
     ]
    }
   ],
   "source": [
    "#A fair die is tossed twice. Find the probability of getting a 4 or 5 the first toss and a 1,2,or 3 in the second toss.\n",
    "\n",
    "pa = event_probability(2,6)    #probability of getting 4 or 5 \n",
    "pb = event_probability(3,6)    #probability of getting 1,2, or 3\n",
    "P = pa*pb\n",
    "print(\"probability of getting a 4 or 5 the first toss and a 1,2,or 3 in the second toss is:\",P)\n"
   ]
  },
  {
   "cell_type": "code",
   "execution_count": 7,
   "id": "badc0329",
   "metadata": {
    "scrolled": true
   },
   "outputs": [
    {
     "name": "stdout",
     "output_type": "stream",
     "text": [
      "the probability of obtaining white, black and green in  that order is: 0.041666666666666664\n"
     ]
    }
   ],
   "source": [
    "# A bag contains 5 white marbles, 3 black marbles and 2 green marbles. In each draw, a marble is drawn from the bag\n",
    "# and not replaced. In three draws, find the probability of obtaining white, black and green in  that order.\n",
    "\n",
    "pw = event_probability(5,10)\n",
    "pb = event_probability(3,9)\n",
    "pg = event_probability(2,8)\n",
    "print(\"the probability of obtaining white, black and green in  that order is:\",pw*pb*pg)"
   ]
  },
  {
   "cell_type": "code",
   "execution_count": 8,
   "id": "fe13cb5b",
   "metadata": {},
   "outputs": [
    {
     "name": "stdout",
     "output_type": "stream",
     "text": [
      "0.5\n"
     ]
    }
   ],
   "source": [
    "#Sample space\n",
    "cards = 52\n",
    "\n",
    "#Calculate the probability of drawing a heart or a club\n",
    "hearts =13\n",
    "clubs =13\n",
    "heart_or_club= event_probability(hearts,cards)+event_probability(clubs,cards)\n",
    "print(heart_or_club)\n"
   ]
  },
  {
   "cell_type": "code",
   "execution_count": 9,
   "id": "a162ce36",
   "metadata": {},
   "outputs": [
    {
     "name": "stdout",
     "output_type": "stream",
     "text": [
      "0.23076923076923078\n"
     ]
    }
   ],
   "source": [
    "#Calculate the probability of drawing an ace, king or queen\n",
    "aces = 4\n",
    "kings= 4\n",
    "queens =4\n",
    "ace_king_or_queen =event_probability(aces,cards) + event_probability(kings,cards) + event_probability(queens,cards)\n",
    "\n",
    "print(ace_king_or_queen)"
   ]
  },
  {
   "cell_type": "code",
   "execution_count": 10,
   "id": "95c7669a",
   "metadata": {},
   "outputs": [
    {
     "name": "stdout",
     "output_type": "stream",
     "text": [
      "0.3\n"
     ]
    }
   ],
   "source": [
    "#Calculate the probability of drawing heart or ace\n",
    "hearts =13\n",
    "aces =4\n",
    "ace_of_hearts= 1\n",
    "heart_or_ace = event_probability(hearts,cards) + event_probability(aces,cards) -event_probability(ace_of_hearts,cards)\n",
    "print(round(heart_or_ace, 1))"
   ]
  },
  {
   "cell_type": "code",
   "execution_count": 11,
   "id": "a7992d6a",
   "metadata": {},
   "outputs": [
    {
     "name": "stdout",
     "output_type": "stream",
     "text": [
      "0.6\n"
     ]
    }
   ],
   "source": [
    "#Calculate the probability of drawing red card or face card\n",
    "\n",
    "red_cards = 26\n",
    "face_cards = 12\n",
    "red_face_cards = 6\n",
    "\n",
    "red_or_face_cards = event_probability(red_cards,cards) +event_probability(face_cards,cards)- event_probability(red_face_cards,cards)\n",
    "print(round(red_or_face_cards,1))    #probability rounded to one decimal place"
   ]
  },
  {
   "cell_type": "markdown",
   "id": "06121f62",
   "metadata": {},
   "source": [
    "# Complementory Events"
   ]
  },
  {
   "cell_type": "code",
   "execution_count": 12,
   "id": "7916e799",
   "metadata": {},
   "outputs": [
    {
     "name": "stdout",
     "output_type": "stream",
     "text": [
      "probability of getting 3 is: 0.8333333333333334\n"
     ]
    }
   ],
   "source": [
    "#Probability of not getting 5 when a fair die is rolled\n",
    "ns = 6          #n(S) = {1,2,3,4,5,6}\n",
    "na = 1          #n(A) ={5}\n",
    "pa = na/ns      #P(A)\n",
    "print(\"probability of getting 3 is:\",1-pa)"
   ]
  },
  {
   "cell_type": "markdown",
   "id": "e54a2f56",
   "metadata": {},
   "source": [
    "# Conditional Probability\n"
   ]
  },
  {
   "cell_type": "markdown",
   "id": "ba8cba22",
   "metadata": {},
   "source": [
    "P(A|B) =P(A OR B) /P(B)"
   ]
  },
  {
   "cell_type": "code",
   "execution_count": 13,
   "id": "a77798ab",
   "metadata": {},
   "outputs": [
    {
     "data": {
      "text/html": [
       "<div>\n",
       "<style scoped>\n",
       "    .dataframe tbody tr th:only-of-type {\n",
       "        vertical-align: middle;\n",
       "    }\n",
       "\n",
       "    .dataframe tbody tr th {\n",
       "        vertical-align: top;\n",
       "    }\n",
       "\n",
       "    .dataframe thead th {\n",
       "        text-align: right;\n",
       "    }\n",
       "</style>\n",
       "<table border=\"1\" class=\"dataframe\">\n",
       "  <thead>\n",
       "    <tr style=\"text-align: right;\">\n",
       "      <th></th>\n",
       "      <th>school</th>\n",
       "      <th>sex</th>\n",
       "      <th>age</th>\n",
       "      <th>address</th>\n",
       "      <th>famsize</th>\n",
       "      <th>Pstatus</th>\n",
       "      <th>Medu</th>\n",
       "      <th>Fedu</th>\n",
       "      <th>Mjob</th>\n",
       "      <th>Fjob</th>\n",
       "      <th>...</th>\n",
       "      <th>famrel</th>\n",
       "      <th>freetime</th>\n",
       "      <th>goout</th>\n",
       "      <th>Dalc</th>\n",
       "      <th>Walc</th>\n",
       "      <th>health</th>\n",
       "      <th>absences</th>\n",
       "      <th>G1</th>\n",
       "      <th>G2</th>\n",
       "      <th>G3</th>\n",
       "    </tr>\n",
       "  </thead>\n",
       "  <tbody>\n",
       "    <tr>\n",
       "      <th>0</th>\n",
       "      <td>GP</td>\n",
       "      <td>F</td>\n",
       "      <td>18</td>\n",
       "      <td>U</td>\n",
       "      <td>GT3</td>\n",
       "      <td>A</td>\n",
       "      <td>4</td>\n",
       "      <td>4</td>\n",
       "      <td>at_home</td>\n",
       "      <td>teacher</td>\n",
       "      <td>...</td>\n",
       "      <td>4</td>\n",
       "      <td>3</td>\n",
       "      <td>4</td>\n",
       "      <td>1</td>\n",
       "      <td>1</td>\n",
       "      <td>3</td>\n",
       "      <td>6</td>\n",
       "      <td>5</td>\n",
       "      <td>6</td>\n",
       "      <td>6</td>\n",
       "    </tr>\n",
       "    <tr>\n",
       "      <th>1</th>\n",
       "      <td>GP</td>\n",
       "      <td>F</td>\n",
       "      <td>17</td>\n",
       "      <td>U</td>\n",
       "      <td>GT3</td>\n",
       "      <td>T</td>\n",
       "      <td>1</td>\n",
       "      <td>1</td>\n",
       "      <td>at_home</td>\n",
       "      <td>other</td>\n",
       "      <td>...</td>\n",
       "      <td>5</td>\n",
       "      <td>3</td>\n",
       "      <td>3</td>\n",
       "      <td>1</td>\n",
       "      <td>1</td>\n",
       "      <td>3</td>\n",
       "      <td>4</td>\n",
       "      <td>5</td>\n",
       "      <td>5</td>\n",
       "      <td>6</td>\n",
       "    </tr>\n",
       "    <tr>\n",
       "      <th>2</th>\n",
       "      <td>GP</td>\n",
       "      <td>F</td>\n",
       "      <td>15</td>\n",
       "      <td>U</td>\n",
       "      <td>LE3</td>\n",
       "      <td>T</td>\n",
       "      <td>1</td>\n",
       "      <td>1</td>\n",
       "      <td>at_home</td>\n",
       "      <td>other</td>\n",
       "      <td>...</td>\n",
       "      <td>4</td>\n",
       "      <td>3</td>\n",
       "      <td>2</td>\n",
       "      <td>2</td>\n",
       "      <td>3</td>\n",
       "      <td>3</td>\n",
       "      <td>10</td>\n",
       "      <td>7</td>\n",
       "      <td>8</td>\n",
       "      <td>10</td>\n",
       "    </tr>\n",
       "  </tbody>\n",
       "</table>\n",
       "<p>3 rows × 33 columns</p>\n",
       "</div>"
      ],
      "text/plain": [
       "  school sex  age address famsize Pstatus  Medu  Fedu     Mjob     Fjob  ...  \\\n",
       "0     GP   F   18       U     GT3       A     4     4  at_home  teacher  ...   \n",
       "1     GP   F   17       U     GT3       T     1     1  at_home    other  ...   \n",
       "2     GP   F   15       U     LE3       T     1     1  at_home    other  ...   \n",
       "\n",
       "  famrel freetime  goout  Dalc  Walc health absences G1 G2  G3  \n",
       "0      4        3      4     1     1      3        6  5  6   6  \n",
       "1      5        3      3     1     1      3        4  5  5   6  \n",
       "2      4        3      2     2     3      3       10  7  8  10  \n",
       "\n",
       "[3 rows x 33 columns]"
      ]
     },
     "execution_count": 13,
     "metadata": {},
     "output_type": "execute_result"
    }
   ],
   "source": [
    "import pandas as pd\n",
    "import numpy as np\n",
    "df = pd.read_csv('D:/FDS Prac/student-mat.csv')\n",
    "df.head(3)"
   ]
  },
  {
   "cell_type": "code",
   "execution_count": 14,
   "id": "d056799e",
   "metadata": {},
   "outputs": [
    {
     "data": {
      "text/plain": [
       "395"
      ]
     },
     "execution_count": 14,
     "metadata": {},
     "output_type": "execute_result"
    }
   ],
   "source": [
    "len(df)"
   ]
  },
  {
   "cell_type": "markdown",
   "id": "be90fcbd",
   "metadata": {},
   "source": [
    "Make another boolena column called high_absences with a vlue of 1 if a student missed 10 or more classes"
   ]
  },
  {
   "cell_type": "markdown",
   "id": "0648cb08",
   "metadata": {},
   "source": [
    "We are only concerned with the columns,absences(number of absences),and \n",
    "and G3(final garde from 0 to 20).\n",
    "\n",
    "Let us create a couple new boolean columns based on these columns to make our lives easier.\n",
    "\n",
    "Add a boolean column called grade_A nothing if a student achieved 80% or higher as a afinal score.\n",
    "Original values are on 0to 20 scale so we multiply by 5"
   ]
  },
  {
   "cell_type": "code",
   "execution_count": 15,
   "id": "c733f5b1",
   "metadata": {},
   "outputs": [],
   "source": [
    "df ['grade_A'] = np.where(df['G3']*5 >=80,1,0)"
   ]
  },
  {
   "cell_type": "code",
   "execution_count": 16,
   "id": "10b88a3c",
   "metadata": {},
   "outputs": [
    {
     "data": {
      "text/html": [
       "<div>\n",
       "<style scoped>\n",
       "    .dataframe tbody tr th:only-of-type {\n",
       "        vertical-align: middle;\n",
       "    }\n",
       "\n",
       "    .dataframe tbody tr th {\n",
       "        vertical-align: top;\n",
       "    }\n",
       "\n",
       "    .dataframe thead th {\n",
       "        text-align: right;\n",
       "    }\n",
       "</style>\n",
       "<table border=\"1\" class=\"dataframe\">\n",
       "  <thead>\n",
       "    <tr style=\"text-align: right;\">\n",
       "      <th></th>\n",
       "      <th>school</th>\n",
       "      <th>sex</th>\n",
       "      <th>age</th>\n",
       "      <th>address</th>\n",
       "      <th>famsize</th>\n",
       "      <th>Pstatus</th>\n",
       "      <th>Medu</th>\n",
       "      <th>Fedu</th>\n",
       "      <th>Mjob</th>\n",
       "      <th>Fjob</th>\n",
       "      <th>...</th>\n",
       "      <th>goout</th>\n",
       "      <th>Dalc</th>\n",
       "      <th>Walc</th>\n",
       "      <th>health</th>\n",
       "      <th>absences</th>\n",
       "      <th>G1</th>\n",
       "      <th>G2</th>\n",
       "      <th>G3</th>\n",
       "      <th>grade_A</th>\n",
       "      <th>high absences</th>\n",
       "    </tr>\n",
       "  </thead>\n",
       "  <tbody>\n",
       "    <tr>\n",
       "      <th>0</th>\n",
       "      <td>GP</td>\n",
       "      <td>F</td>\n",
       "      <td>18</td>\n",
       "      <td>U</td>\n",
       "      <td>GT3</td>\n",
       "      <td>A</td>\n",
       "      <td>4</td>\n",
       "      <td>4</td>\n",
       "      <td>at_home</td>\n",
       "      <td>teacher</td>\n",
       "      <td>...</td>\n",
       "      <td>4</td>\n",
       "      <td>1</td>\n",
       "      <td>1</td>\n",
       "      <td>3</td>\n",
       "      <td>6</td>\n",
       "      <td>5</td>\n",
       "      <td>6</td>\n",
       "      <td>6</td>\n",
       "      <td>0</td>\n",
       "      <td>0</td>\n",
       "    </tr>\n",
       "    <tr>\n",
       "      <th>1</th>\n",
       "      <td>GP</td>\n",
       "      <td>F</td>\n",
       "      <td>17</td>\n",
       "      <td>U</td>\n",
       "      <td>GT3</td>\n",
       "      <td>T</td>\n",
       "      <td>1</td>\n",
       "      <td>1</td>\n",
       "      <td>at_home</td>\n",
       "      <td>other</td>\n",
       "      <td>...</td>\n",
       "      <td>3</td>\n",
       "      <td>1</td>\n",
       "      <td>1</td>\n",
       "      <td>3</td>\n",
       "      <td>4</td>\n",
       "      <td>5</td>\n",
       "      <td>5</td>\n",
       "      <td>6</td>\n",
       "      <td>0</td>\n",
       "      <td>0</td>\n",
       "    </tr>\n",
       "    <tr>\n",
       "      <th>2</th>\n",
       "      <td>GP</td>\n",
       "      <td>F</td>\n",
       "      <td>15</td>\n",
       "      <td>U</td>\n",
       "      <td>LE3</td>\n",
       "      <td>T</td>\n",
       "      <td>1</td>\n",
       "      <td>1</td>\n",
       "      <td>at_home</td>\n",
       "      <td>other</td>\n",
       "      <td>...</td>\n",
       "      <td>2</td>\n",
       "      <td>2</td>\n",
       "      <td>3</td>\n",
       "      <td>3</td>\n",
       "      <td>10</td>\n",
       "      <td>7</td>\n",
       "      <td>8</td>\n",
       "      <td>10</td>\n",
       "      <td>0</td>\n",
       "      <td>1</td>\n",
       "    </tr>\n",
       "  </tbody>\n",
       "</table>\n",
       "<p>3 rows × 35 columns</p>\n",
       "</div>"
      ],
      "text/plain": [
       "  school sex  age address famsize Pstatus  Medu  Fedu     Mjob     Fjob  ...  \\\n",
       "0     GP   F   18       U     GT3       A     4     4  at_home  teacher  ...   \n",
       "1     GP   F   17       U     GT3       T     1     1  at_home    other  ...   \n",
       "2     GP   F   15       U     LE3       T     1     1  at_home    other  ...   \n",
       "\n",
       "  goout Dalc  Walc  health  absences G1 G2  G3 grade_A high absences  \n",
       "0     4    1     1       3         6  5  6   6       0             0  \n",
       "1     3    1     1       3         4  5  5   6       0             0  \n",
       "2     2    2     3       3        10  7  8  10       0             1  \n",
       "\n",
       "[3 rows x 35 columns]"
      ]
     },
     "execution_count": 16,
     "metadata": {},
     "output_type": "execute_result"
    }
   ],
   "source": [
    "df['high absences'] = np.where(df['absences'] >= 10,1,0)\n",
    "df.head(3)"
   ]
  },
  {
   "cell_type": "markdown",
   "id": "ebac071a",
   "metadata": {},
   "source": [
    "Add one more column to make building a pivot table easier"
   ]
  },
  {
   "cell_type": "code",
   "execution_count": 17,
   "id": "f6208168",
   "metadata": {},
   "outputs": [],
   "source": [
    "df['count'] =1"
   ]
  },
  {
   "cell_type": "markdown",
   "id": "449b0f44",
   "metadata": {},
   "source": [
    "And drop all columns we don't care about"
   ]
  },
  {
   "cell_type": "code",
   "execution_count": 18,
   "id": "d8dad73a",
   "metadata": {},
   "outputs": [
    {
     "data": {
      "text/html": [
       "<div>\n",
       "<style scoped>\n",
       "    .dataframe tbody tr th:only-of-type {\n",
       "        vertical-align: middle;\n",
       "    }\n",
       "\n",
       "    .dataframe tbody tr th {\n",
       "        vertical-align: top;\n",
       "    }\n",
       "\n",
       "    .dataframe thead th {\n",
       "        text-align: right;\n",
       "    }\n",
       "</style>\n",
       "<table border=\"1\" class=\"dataframe\">\n",
       "  <thead>\n",
       "    <tr style=\"text-align: right;\">\n",
       "      <th></th>\n",
       "      <th>grade_A</th>\n",
       "      <th>high absences</th>\n",
       "      <th>count</th>\n",
       "    </tr>\n",
       "  </thead>\n",
       "  <tbody>\n",
       "    <tr>\n",
       "      <th>0</th>\n",
       "      <td>0</td>\n",
       "      <td>0</td>\n",
       "      <td>1</td>\n",
       "    </tr>\n",
       "    <tr>\n",
       "      <th>1</th>\n",
       "      <td>0</td>\n",
       "      <td>0</td>\n",
       "      <td>1</td>\n",
       "    </tr>\n",
       "    <tr>\n",
       "      <th>2</th>\n",
       "      <td>0</td>\n",
       "      <td>1</td>\n",
       "      <td>1</td>\n",
       "    </tr>\n",
       "    <tr>\n",
       "      <th>3</th>\n",
       "      <td>0</td>\n",
       "      <td>0</td>\n",
       "      <td>1</td>\n",
       "    </tr>\n",
       "    <tr>\n",
       "      <th>4</th>\n",
       "      <td>0</td>\n",
       "      <td>0</td>\n",
       "      <td>1</td>\n",
       "    </tr>\n",
       "  </tbody>\n",
       "</table>\n",
       "</div>"
      ],
      "text/plain": [
       "   grade_A  high absences  count\n",
       "0        0              0      1\n",
       "1        0              0      1\n",
       "2        0              1      1\n",
       "3        0              0      1\n",
       "4        0              0      1"
      ]
     },
     "execution_count": 18,
     "metadata": {},
     "output_type": "execute_result"
    }
   ],
   "source": [
    "df = df[['grade_A','high absences','count']]\n",
    "df.head()"
   ]
  },
  {
   "cell_type": "markdown",
   "id": "acc5a9d8",
   "metadata": {},
   "source": [
    "Now we will create pivot table from this"
   ]
  },
  {
   "cell_type": "code",
   "execution_count": 19,
   "id": "5c90cf25",
   "metadata": {},
   "outputs": [],
   "source": [
    "final = pd.pivot_table(\n",
    "    df,\n",
    "    values='count',\n",
    "    index=['grade_A'],\n",
    "    columns=['high absences'],\n",
    "    aggfunc=np.size,\n",
    "    fill_value=0\n",
    ")    "
   ]
  },
  {
   "cell_type": "code",
   "execution_count": 20,
   "id": "4f9f34f3",
   "metadata": {},
   "outputs": [
    {
     "name": "stdout",
     "output_type": "stream",
     "text": [
      "high absences    0   1\n",
      "grade_A               \n",
      "0              277  78\n",
      "1               35   5\n"
     ]
    }
   ],
   "source": [
    "print(final)"
   ]
  },
  {
   "cell_type": "code",
   "execution_count": null,
   "id": "88d0ca1f",
   "metadata": {},
   "outputs": [],
   "source": [
    "# In Mathematical Way\n",
    "Calculate the probability the student will get grade A given that missing 10 or more classes\n",
    "We now have all the data we need to do our calculation.Lets start by claculating each individual part in the formula.\n",
    "In our case:P(A) is the probability of a grade of 80% or greater.\n",
    "    P(B) is the  probability of missing 10 or more classes.\n",
    "    P(A|B) is the  probability of a 80%+ grade,given  missing 10 or more classes.\n",
    "    \n",
    "    P(A) =(35+5)/(277+78+35+5) = 0.1012\n",
    "    P(B) =(78+5)/(277+78+35+5) = 0.2101\n",
    "    P(A OR B) =5/(277+78+35+5) = 0.0126\n",
    "    \n",
    "    P(A|B) = P(A OR B)/P(B)=0.060\n",
    "    The probability of getting at least an 80% final grade, given  missing 10 or more classes is 6%"
   ]
  },
  {
   "cell_type": "code",
   "execution_count": 22,
   "id": "6038c2d8",
   "metadata": {},
   "outputs": [
    {
     "name": "stdout",
     "output_type": "stream",
     "text": [
      "P(A) =10.127%\n",
      "P(B) =21.013%\n",
      "P(A OR B) =1.266%\n",
      "P(A/B) =6.024%\n"
     ]
    }
   ],
   "source": [
    "#In Python\n",
    "    \n",
    "total = 277+78+35+5\n",
    "p_a=(35+5)/total\n",
    "p_b=(78+5)/total\n",
    "p_a_or_b=5/total\n",
    "p_a_given_b= p_a_or_b/p_b\n",
    "\n",
    "print('P(A) =%.3f%%' % ( p_a*100))\n",
    "print('P(B) =%.3f%%' % ( p_b*100))\n",
    "print('P(A OR B) =%.3f%%' % ( p_a_or_b*100))\n",
    "print('P(A/B) =%.3f%%' % ( p_a_given_b*100))\n"
   ]
  },
  {
   "cell_type": "markdown",
   "id": "56df1da7",
   "metadata": {},
   "source": [
    "# COMBINATORICS:\n",
    "# Permutations,Variations & Combinations"
   ]
  },
  {
   "cell_type": "markdown",
   "id": "0033586a",
   "metadata": {},
   "source": [
    "With Repetition"
   ]
  },
  {
   "cell_type": "code",
   "execution_count": 23,
   "id": "0f3f3ef3",
   "metadata": {},
   "outputs": [
    {
     "data": {
      "text/plain": [
       "[('g', 'g'), ('g', 'b'), ('b', 'g'), ('b', 'b')]"
      ]
     },
     "execution_count": 23,
     "metadata": {},
     "output_type": "execute_result"
    }
   ],
   "source": [
    "import itertools\n",
    "from itertools import product\n",
    "box_1=['g','b']\n",
    "perm=[]\n",
    "for p in itertools.product(box_1, repeat=2):\n",
    "    perm.append(p)\n",
    "    \n",
    "perm    "
   ]
  },
  {
   "cell_type": "code",
   "execution_count": 24,
   "id": "4fe6b7d9",
   "metadata": {},
   "outputs": [
    {
     "data": {
      "text/plain": [
       "[('g', 'g', 'g'),\n",
       " ('g', 'g', 'b'),\n",
       " ('g', 'b', 'g'),\n",
       " ('g', 'b', 'b'),\n",
       " ('b', 'g', 'g'),\n",
       " ('b', 'g', 'b'),\n",
       " ('b', 'b', 'g'),\n",
       " ('b', 'b', 'b')]"
      ]
     },
     "execution_count": 24,
     "metadata": {},
     "output_type": "execute_result"
    }
   ],
   "source": [
    "import itertools\n",
    "from itertools import product\n",
    "box_2=['g','b','y']\n",
    "perm=[]\n",
    "for p in itertools.product(box_1, repeat=3):\n",
    "    perm.append(p)\n",
    "    \n",
    "perm "
   ]
  },
  {
   "cell_type": "markdown",
   "id": "765f8f27",
   "metadata": {},
   "source": [
    "Without Repetition"
   ]
  },
  {
   "cell_type": "code",
   "execution_count": 25,
   "id": "e0754e1c",
   "metadata": {},
   "outputs": [
    {
     "name": "stdout",
     "output_type": "stream",
     "text": [
      "('g', 'b')\n",
      "('b', 'g')\n"
     ]
    }
   ],
   "source": [
    "import itertools\n",
    "\n",
    "box_1 = ['g','b']\n",
    "perm = itertools.permutations(box_1)\n",
    "\n",
    "for i in list(perm):\n",
    "    print(i)"
   ]
  },
  {
   "cell_type": "code",
   "execution_count": 26,
   "id": "09ba9afa",
   "metadata": {},
   "outputs": [
    {
     "name": "stdout",
     "output_type": "stream",
     "text": [
      "('g', 'b', 'y')\n",
      "('g', 'y', 'b')\n",
      "('b', 'g', 'y')\n",
      "('b', 'y', 'g')\n",
      "('y', 'g', 'b')\n",
      "('y', 'b', 'g')\n"
     ]
    }
   ],
   "source": [
    "import itertools\n",
    "\n",
    "box_2 = ['g','b','y']\n",
    "perm = itertools.permutations(box_2)\n",
    "\n",
    "for i in list(perm):\n",
    "    print(i)"
   ]
  },
  {
   "cell_type": "markdown",
   "id": "b61c1f5c",
   "metadata": {},
   "source": [
    "# Variations"
   ]
  },
  {
   "cell_type": "code",
   "execution_count": 27,
   "id": "a4741ae7",
   "metadata": {},
   "outputs": [
    {
     "data": {
      "text/plain": [
       "[('g', 'g'),\n",
       " ('g', 'b'),\n",
       " ('g', 'y'),\n",
       " ('b', 'g'),\n",
       " ('b', 'b'),\n",
       " ('b', 'y'),\n",
       " ('y', 'g'),\n",
       " ('y', 'b'),\n",
       " ('y', 'y')]"
      ]
     },
     "execution_count": 27,
     "metadata": {},
     "output_type": "execute_result"
    }
   ],
   "source": [
    "#With Repetition\n",
    "\n",
    "box_1=['g','b','y']\n",
    "perm=[]\n",
    "for p in itertools.product(box_2, repeat=2):\n",
    "    perm.append(p)\n",
    "    \n",
    "perm  "
   ]
  },
  {
   "cell_type": "code",
   "execution_count": 28,
   "id": "e7ab2cd8",
   "metadata": {},
   "outputs": [
    {
     "name": "stdout",
     "output_type": "stream",
     "text": [
      "('g', 'b')\n",
      "('g', 'y')\n",
      "('b', 'g')\n",
      "('b', 'y')\n",
      "('y', 'g')\n",
      "('y', 'b')\n"
     ]
    }
   ],
   "source": [
    "#Without Repetition\n",
    "\n",
    "box_2 = ['g','b','y']\n",
    "perm = itertools.permutations(box_2,2)\n",
    "\n",
    "for i in list(perm):\n",
    "    print(i)"
   ]
  },
  {
   "cell_type": "markdown",
   "id": "60eeff9a",
   "metadata": {},
   "source": [
    "# Combinations"
   ]
  },
  {
   "cell_type": "markdown",
   "id": "b2e5a944",
   "metadata": {},
   "source": [
    "With Repetition:\n",
    "\n",
    "The number of possible combinations(with repetition) is given by:\n",
    "    \n",
    "    C(n,k) = (n+k-1)!/k!(n-1)!"
   ]
  },
  {
   "cell_type": "code",
   "execution_count": 29,
   "id": "ba707615",
   "metadata": {},
   "outputs": [
    {
     "name": "stdout",
     "output_type": "stream",
     "text": [
      "('g', 'g')\n",
      "('g', 'b')\n",
      "('b', 'b')\n"
     ]
    }
   ],
   "source": [
    "from itertools import combinations_with_replacement\n",
    "\n",
    "box_1=['g','b']\n",
    "comb = combinations_with_replacement(box_1,2)\n",
    "\n",
    "for i in list(comb):\n",
    "    print(i)"
   ]
  },
  {
   "cell_type": "code",
   "execution_count": 30,
   "id": "3ed81a53",
   "metadata": {},
   "outputs": [
    {
     "name": "stdout",
     "output_type": "stream",
     "text": [
      "('g', 'g')\n",
      "('g', 'b')\n",
      "('g', 'y')\n",
      "('g', 'w')\n",
      "('b', 'b')\n",
      "('b', 'y')\n",
      "('b', 'w')\n",
      "('y', 'y')\n",
      "('y', 'w')\n",
      "('w', 'w')\n"
     ]
    }
   ],
   "source": [
    "from itertools import combinations_with_replacement\n",
    "\n",
    "box_1=['g','b','y','w']\n",
    "comb = combinations_with_replacement(box_1,2)\n",
    "\n",
    "for i in list(comb):\n",
    "    print(i)"
   ]
  },
  {
   "cell_type": "markdown",
   "id": "0d49a754",
   "metadata": {},
   "source": [
    "Without Repetition"
   ]
  },
  {
   "cell_type": "code",
   "execution_count": 31,
   "id": "2b3d4f74",
   "metadata": {},
   "outputs": [
    {
     "name": "stdout",
     "output_type": "stream",
     "text": [
      "('b', 'g')\n"
     ]
    }
   ],
   "source": [
    "from itertools import combinations\n",
    "box_1=['b','g']\n",
    "comb = combinations(box_1,2)\n",
    "\n",
    "for i in list(comb):\n",
    "    print(i)\n",
    "    "
   ]
  },
  {
   "cell_type": "code",
   "execution_count": 32,
   "id": "8826b019",
   "metadata": {},
   "outputs": [
    {
     "name": "stdout",
     "output_type": "stream",
     "text": [
      "('b', 'g')\n",
      "('b', 'y')\n",
      "('g', 'y')\n"
     ]
    }
   ],
   "source": [
    "from itertools import combinations\n",
    "box_1=['b','g','y']\n",
    "comb = combinations(box_1,2)\n",
    "\n",
    "for i in list(comb):\n",
    "    print(i)\n",
    "    "
   ]
  },
  {
   "cell_type": "code",
   "execution_count": null,
   "id": "04b2c0ca",
   "metadata": {},
   "outputs": [],
   "source": []
  },
  {
   "cell_type": "code",
   "execution_count": null,
   "id": "c8d7fd54",
   "metadata": {},
   "outputs": [],
   "source": []
  }
 ],
 "metadata": {
  "kernelspec": {
   "display_name": "Python 3",
   "language": "python",
   "name": "python3"
  },
  "language_info": {
   "codemirror_mode": {
    "name": "ipython",
    "version": 3
   },
   "file_extension": ".py",
   "mimetype": "text/x-python",
   "name": "python",
   "nbconvert_exporter": "python",
   "pygments_lexer": "ipython3",
   "version": "3.8.8"
  }
 },
 "nbformat": 4,
 "nbformat_minor": 5
}
